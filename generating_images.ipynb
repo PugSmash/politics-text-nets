{
 "cells": [
  {
   "cell_type": "code",
   "execution_count": 1,
   "metadata": {},
   "outputs": [],
   "source": [
    "from pyvis.network import Network\n",
    "import networkx as nx"
   ]
  },
  {
   "cell_type": "code",
   "execution_count": 4,
   "metadata": {},
   "outputs": [],
   "source": [
    "from pyvis.network import Network\n",
    "G = nx.Graph()\n",
    "G.add_edge(\"James\", \"Will\")\n",
    "G.add_edge(\"Will\", \"Alan\")\n",
    "G.add_edge(\"James\", \"Jake\")\n",
    "G.add_edge(\"James\", \"Alan\")\n",
    "\n",
    "net = Network(width=\"1200px\", height=\"1000px\",\n",
    "              bgcolor='#222222', font_color='white')\n",
    "\n",
    "node_degree = dict(G.degree)\n",
    "nx.set_node_attributes(G, node_degree, 'size')\n",
    "net.from_nx(G)\n",
    "net.toggle_physics(True)\n",
    "net.show(\"friends.html\")"
   ]
  }
 ],
 "metadata": {
  "kernelspec": {
   "display_name": "textnets",
   "language": "python",
   "name": "python3"
  },
  "language_info": {
   "codemirror_mode": {
    "name": "ipython",
    "version": 3
   },
   "file_extension": ".py",
   "mimetype": "text/x-python",
   "name": "python",
   "nbconvert_exporter": "python",
   "pygments_lexer": "ipython3",
   "version": "3.10.14"
  }
 },
 "nbformat": 4,
 "nbformat_minor": 2
}
